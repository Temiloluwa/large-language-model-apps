{
 "cells": [
  {
   "cell_type": "code",
   "execution_count": 1,
   "metadata": {},
   "outputs": [],
   "source": [
    "from pprint import pprint\n",
    "from queryverse.llm import OpenAILLM\n",
    "from queryverse.prompter import SystemPrompter, UserPrompter"
   ]
  },
  {
   "cell_type": "markdown",
   "metadata": {},
   "source": [
    "# Prompt"
   ]
  },
  {
   "cell_type": "code",
   "execution_count": 2,
   "metadata": {},
   "outputs": [],
   "source": [
    "system_prompt = SystemPrompter(\"\"\"\n",
    "        You are a fluent German speaker that is great at following instructions. \n",
    "    \"\"\")\n",
    "\n",
    "user_prompt = UserPrompter(\"\"\"\n",
    "    Given a German word, supply the following\n",
    "    1. A explanation of the word in english in very simple terms like to a child.\n",
    "    2. Synonyms of the word if the exist\n",
    "\n",
    "    Output Format (comma seperated json format):\n",
    "\n",
    "        explanation: <Simple explanation like to a child>\n",
    "        synonyms: <comman seperated synoyms>\n",
    "\n",
    "    German Word: {word}\n",
    "\"\"\")"
   ]
  },
  {
   "cell_type": "code",
   "execution_count": 3,
   "metadata": {},
   "outputs": [
    {
     "name": "stdout",
     "output_type": "stream",
     "text": [
      "[{'content': '\\n'\n",
      "             '        You are a fluent German speaker that is great at '\n",
      "             'following instructions. \\n'\n",
      "             '    ',\n",
      "  'role': 'system'},\n",
      " {'content': '\\n'\n",
      "             '    Given a German word, supply the following\\n'\n",
      "             '    1. A explanation of the word in english in very simple terms '\n",
      "             'like to a child.\\n'\n",
      "             '    2. Synonyms of the word if the exist\\n'\n",
      "             '\\n'\n",
      "             '    Output Format (comma seperated json format):\\n'\n",
      "             '\\n'\n",
      "             '        explanation: <Simple explanation like to a child>\\n'\n",
      "             '        synonyms: <comman seperated synoyms>\\n'\n",
      "             '\\n'\n",
      "             '    German Word: Hilfreich\\n',\n",
      "  'role': 'user'}]\n"
     ]
    }
   ],
   "source": [
    "german_word = \"Hilfreich\"\n",
    "temperature = 0.5\n",
    "\n",
    "messages = [\n",
    "    system_prompt(),\n",
    "    user_prompt(word=german_word)\n",
    "]\n",
    "\n",
    "pprint(messages)"
   ]
  },
  {
   "cell_type": "markdown",
   "metadata": {},
   "source": [
    "## Non Streaming Sync"
   ]
  },
  {
   "cell_type": "code",
   "execution_count": 4,
   "metadata": {},
   "outputs": [
    {
     "name": "stdout",
     "output_type": "stream",
     "text": [
      "Is Async = False\n"
     ]
    },
    {
     "data": {
      "text/plain": [
       "ChatCompletion(id='chatcmpl-8Kv5SyGa0eKKk0WXDRifHDNEUU9Ps', choices=[Choice(finish_reason='stop', index=0, message=ChatCompletionMessage(content='{\\n    \"explanation\": \"Helpful means something that is useful and can assist you.\",\\n    \"synonyms\": \"nützlich, brauchbar, dienlich\"\\n}', role='assistant', function_call=None, tool_calls=None))], created=1699996694, model='gpt-3.5-turbo-0613', object='chat.completion', system_fingerprint=None, usage=CompletionUsage(completion_tokens=39, prompt_tokens=113, total_tokens=152))"
      ]
     },
     "execution_count": 4,
     "metadata": {},
     "output_type": "execute_result"
    }
   ],
   "source": [
    "is_async = False\n",
    "stream = False\n",
    "gpt = OpenAILLM(is_async)\n",
    "print(f\"Is Async = {gpt.is_async}\")\n",
    "response = gpt.prompt(messages=messages, temperature=temperature, stream=stream)\n",
    "response"
   ]
  },
  {
   "cell_type": "markdown",
   "metadata": {},
   "source": [
    "# Streaming Async"
   ]
  },
  {
   "cell_type": "code",
   "execution_count": 5,
   "metadata": {},
   "outputs": [
    {
     "name": "stdout",
     "output_type": "stream",
     "text": [
      "Is Async = True\n"
     ]
    },
    {
     "ename": "RateLimitError",
     "evalue": "Error code: 429 - {'error': {'message': 'Rate limit reached for gpt-3.5-turbo in organization org-QUAcH37XklQyEZm0pdV4NCbA on requests per min (RPM): Limit 3, Used 3, Requested 1. Please try again in 20s. Visit https://platform.openai.com/account/rate-limits to learn more. You can increase your rate limit by adding a payment method to your account at https://platform.openai.com/account/billing.', 'type': 'requests', 'param': None, 'code': 'rate_limit_exceeded'}}",
     "output_type": "error",
     "traceback": [
      "\u001b[0;31m---------------------------------------------------------------------------\u001b[0m",
      "\u001b[0;31mRateLimitError\u001b[0m                            Traceback (most recent call last)",
      "\u001b[1;32m/Users/t.adeoti/codes-and-scripts/projects/llm_apps/libraries/queryverse/src/queryverse_demo.ipynb Cell 8\u001b[0m line \u001b[0;36m5\n\u001b[1;32m      <a href='vscode-notebook-cell:/Users/t.adeoti/codes-and-scripts/projects/llm_apps/libraries/queryverse/src/queryverse_demo.ipynb#W5sZmlsZQ%3D%3D?line=2'>3</a>\u001b[0m gpt \u001b[39m=\u001b[39m OpenAILLM(is_async)\n\u001b[1;32m      <a href='vscode-notebook-cell:/Users/t.adeoti/codes-and-scripts/projects/llm_apps/libraries/queryverse/src/queryverse_demo.ipynb#W5sZmlsZQ%3D%3D?line=3'>4</a>\u001b[0m \u001b[39mprint\u001b[39m(\u001b[39mf\u001b[39m\u001b[39m\"\u001b[39m\u001b[39mIs Async = \u001b[39m\u001b[39m{\u001b[39;00mgpt\u001b[39m.\u001b[39mis_async\u001b[39m}\u001b[39;00m\u001b[39m\"\u001b[39m)\n\u001b[0;32m----> <a href='vscode-notebook-cell:/Users/t.adeoti/codes-and-scripts/projects/llm_apps/libraries/queryverse/src/queryverse_demo.ipynb#W5sZmlsZQ%3D%3D?line=4'>5</a>\u001b[0m response \u001b[39m=\u001b[39m \u001b[39mawait\u001b[39;00m gpt\u001b[39m.\u001b[39maprompt(messages\u001b[39m=\u001b[39mmessages, temperature\u001b[39m=\u001b[39mtemperature, stream\u001b[39m=\u001b[39mstream)\n\u001b[1;32m      <a href='vscode-notebook-cell:/Users/t.adeoti/codes-and-scripts/projects/llm_apps/libraries/queryverse/src/queryverse_demo.ipynb#W5sZmlsZQ%3D%3D?line=5'>6</a>\u001b[0m response\n",
      "File \u001b[0;32m~/codes-and-scripts/projects/llm_apps/libraries/queryverse/src/queryverse/llm/open_ai.py:95\u001b[0m, in \u001b[0;36mOpenAILLM.aprompt\u001b[0;34m(self, messages, temperature, max_tokens, top_p, stream, model)\u001b[0m\n\u001b[1;32m     92\u001b[0m \u001b[39mif\u001b[39;00m \u001b[39mnot\u001b[39;00m \u001b[39mself\u001b[39m\u001b[39m.\u001b[39mis_async:\n\u001b[1;32m     93\u001b[0m     \u001b[39mraise\u001b[39;00m \u001b[39mValueError\u001b[39;00m(\u001b[39m\"\u001b[39m\u001b[39mYou must use an async client, set is_async=True\u001b[39m\u001b[39m\"\u001b[39m)\n\u001b[0;32m---> 95\u001b[0m response \u001b[39m=\u001b[39m \u001b[39mawait\u001b[39;00m \u001b[39mself\u001b[39m\u001b[39m.\u001b[39mclient\u001b[39m.\u001b[39mchat\u001b[39m.\u001b[39mcompletions\u001b[39m.\u001b[39mcreate(\n\u001b[1;32m     96\u001b[0m     messages\u001b[39m=\u001b[39mmessages,\n\u001b[1;32m     97\u001b[0m     temperature\u001b[39m=\u001b[39mtemperature,\n\u001b[1;32m     98\u001b[0m     max_tokens\u001b[39m=\u001b[39mmax_tokens,\n\u001b[1;32m     99\u001b[0m     top_p\u001b[39m=\u001b[39mtop_p,\n\u001b[1;32m    100\u001b[0m     model\u001b[39m=\u001b[39mmodel,\n\u001b[1;32m    101\u001b[0m     stream\u001b[39m=\u001b[39mstream)\n\u001b[1;32m    103\u001b[0m response \u001b[39m=\u001b[39m \u001b[39mself\u001b[39m\u001b[39m.\u001b[39mresponse_parser_chunked(response) \u001b[39mif\u001b[39;00m stream \u001b[39melse\u001b[39;00m \\\n\u001b[1;32m    104\u001b[0m          \u001b[39mself\u001b[39m\u001b[39m.\u001b[39mresponse_parser(response)\n\u001b[1;32m    106\u001b[0m \u001b[39mreturn\u001b[39;00m response\n",
      "File \u001b[0;32m~/codes-and-scripts/projects/llm_apps/queryverse-env/lib/python3.11/site-packages/openai/resources/chat/completions.py:1191\u001b[0m, in \u001b[0;36mAsyncCompletions.create\u001b[0;34m(self, messages, model, frequency_penalty, function_call, functions, logit_bias, max_tokens, n, presence_penalty, response_format, seed, stop, stream, temperature, tool_choice, tools, top_p, user, extra_headers, extra_query, extra_body, timeout)\u001b[0m\n\u001b[1;32m   1145\u001b[0m \u001b[39m@required_args\u001b[39m([\u001b[39m\"\u001b[39m\u001b[39mmessages\u001b[39m\u001b[39m\"\u001b[39m, \u001b[39m\"\u001b[39m\u001b[39mmodel\u001b[39m\u001b[39m\"\u001b[39m], [\u001b[39m\"\u001b[39m\u001b[39mmessages\u001b[39m\u001b[39m\"\u001b[39m, \u001b[39m\"\u001b[39m\u001b[39mmodel\u001b[39m\u001b[39m\"\u001b[39m, \u001b[39m\"\u001b[39m\u001b[39mstream\u001b[39m\u001b[39m\"\u001b[39m])\n\u001b[1;32m   1146\u001b[0m \u001b[39masync\u001b[39;00m \u001b[39mdef\u001b[39;00m \u001b[39mcreate\u001b[39m(\n\u001b[1;32m   1147\u001b[0m     \u001b[39mself\u001b[39m,\n\u001b[0;32m   (...)\u001b[0m\n\u001b[1;32m   1189\u001b[0m     timeout: \u001b[39mfloat\u001b[39m \u001b[39m|\u001b[39m httpx\u001b[39m.\u001b[39mTimeout \u001b[39m|\u001b[39m \u001b[39mNone\u001b[39;00m \u001b[39m|\u001b[39m NotGiven \u001b[39m=\u001b[39m NOT_GIVEN,\n\u001b[1;32m   1190\u001b[0m ) \u001b[39m-\u001b[39m\u001b[39m>\u001b[39m ChatCompletion \u001b[39m|\u001b[39m AsyncStream[ChatCompletionChunk]:\n\u001b[0;32m-> 1191\u001b[0m     \u001b[39mreturn\u001b[39;00m \u001b[39mawait\u001b[39;00m \u001b[39mself\u001b[39m\u001b[39m.\u001b[39m_post(\n\u001b[1;32m   1192\u001b[0m         \u001b[39m\"\u001b[39m\u001b[39m/chat/completions\u001b[39m\u001b[39m\"\u001b[39m,\n\u001b[1;32m   1193\u001b[0m         body\u001b[39m=\u001b[39mmaybe_transform(\n\u001b[1;32m   1194\u001b[0m             {\n\u001b[1;32m   1195\u001b[0m                 \u001b[39m\"\u001b[39m\u001b[39mmessages\u001b[39m\u001b[39m\"\u001b[39m: messages,\n\u001b[1;32m   1196\u001b[0m                 \u001b[39m\"\u001b[39m\u001b[39mmodel\u001b[39m\u001b[39m\"\u001b[39m: model,\n\u001b[1;32m   1197\u001b[0m                 \u001b[39m\"\u001b[39m\u001b[39mfrequency_penalty\u001b[39m\u001b[39m\"\u001b[39m: frequency_penalty,\n\u001b[1;32m   1198\u001b[0m                 \u001b[39m\"\u001b[39m\u001b[39mfunction_call\u001b[39m\u001b[39m\"\u001b[39m: function_call,\n\u001b[1;32m   1199\u001b[0m                 \u001b[39m\"\u001b[39m\u001b[39mfunctions\u001b[39m\u001b[39m\"\u001b[39m: functions,\n\u001b[1;32m   1200\u001b[0m                 \u001b[39m\"\u001b[39m\u001b[39mlogit_bias\u001b[39m\u001b[39m\"\u001b[39m: logit_bias,\n\u001b[1;32m   1201\u001b[0m                 \u001b[39m\"\u001b[39m\u001b[39mmax_tokens\u001b[39m\u001b[39m\"\u001b[39m: max_tokens,\n\u001b[1;32m   1202\u001b[0m                 \u001b[39m\"\u001b[39m\u001b[39mn\u001b[39m\u001b[39m\"\u001b[39m: n,\n\u001b[1;32m   1203\u001b[0m                 \u001b[39m\"\u001b[39m\u001b[39mpresence_penalty\u001b[39m\u001b[39m\"\u001b[39m: presence_penalty,\n\u001b[1;32m   1204\u001b[0m                 \u001b[39m\"\u001b[39m\u001b[39mresponse_format\u001b[39m\u001b[39m\"\u001b[39m: response_format,\n\u001b[1;32m   1205\u001b[0m                 \u001b[39m\"\u001b[39m\u001b[39mseed\u001b[39m\u001b[39m\"\u001b[39m: seed,\n\u001b[1;32m   1206\u001b[0m                 \u001b[39m\"\u001b[39m\u001b[39mstop\u001b[39m\u001b[39m\"\u001b[39m: stop,\n\u001b[1;32m   1207\u001b[0m                 \u001b[39m\"\u001b[39m\u001b[39mstream\u001b[39m\u001b[39m\"\u001b[39m: stream,\n\u001b[1;32m   1208\u001b[0m                 \u001b[39m\"\u001b[39m\u001b[39mtemperature\u001b[39m\u001b[39m\"\u001b[39m: temperature,\n\u001b[1;32m   1209\u001b[0m                 \u001b[39m\"\u001b[39m\u001b[39mtool_choice\u001b[39m\u001b[39m\"\u001b[39m: tool_choice,\n\u001b[1;32m   1210\u001b[0m                 \u001b[39m\"\u001b[39m\u001b[39mtools\u001b[39m\u001b[39m\"\u001b[39m: tools,\n\u001b[1;32m   1211\u001b[0m                 \u001b[39m\"\u001b[39m\u001b[39mtop_p\u001b[39m\u001b[39m\"\u001b[39m: top_p,\n\u001b[1;32m   1212\u001b[0m                 \u001b[39m\"\u001b[39m\u001b[39muser\u001b[39m\u001b[39m\"\u001b[39m: user,\n\u001b[1;32m   1213\u001b[0m             },\n\u001b[1;32m   1214\u001b[0m             completion_create_params\u001b[39m.\u001b[39mCompletionCreateParams,\n\u001b[1;32m   1215\u001b[0m         ),\n\u001b[1;32m   1216\u001b[0m         options\u001b[39m=\u001b[39mmake_request_options(\n\u001b[1;32m   1217\u001b[0m             extra_headers\u001b[39m=\u001b[39mextra_headers, extra_query\u001b[39m=\u001b[39mextra_query, extra_body\u001b[39m=\u001b[39mextra_body, timeout\u001b[39m=\u001b[39mtimeout\n\u001b[1;32m   1218\u001b[0m         ),\n\u001b[1;32m   1219\u001b[0m         cast_to\u001b[39m=\u001b[39mChatCompletion,\n\u001b[1;32m   1220\u001b[0m         stream\u001b[39m=\u001b[39mstream \u001b[39mor\u001b[39;00m \u001b[39mFalse\u001b[39;00m,\n\u001b[1;32m   1221\u001b[0m         stream_cls\u001b[39m=\u001b[39mAsyncStream[ChatCompletionChunk],\n\u001b[1;32m   1222\u001b[0m     )\n",
      "File \u001b[0;32m~/codes-and-scripts/projects/llm_apps/queryverse-env/lib/python3.11/site-packages/openai/_base_client.py:1474\u001b[0m, in \u001b[0;36mAsyncAPIClient.post\u001b[0;34m(self, path, cast_to, body, files, options, stream, stream_cls)\u001b[0m\n\u001b[1;32m   1460\u001b[0m \u001b[39masync\u001b[39;00m \u001b[39mdef\u001b[39;00m \u001b[39mpost\u001b[39m(\n\u001b[1;32m   1461\u001b[0m     \u001b[39mself\u001b[39m,\n\u001b[1;32m   1462\u001b[0m     path: \u001b[39mstr\u001b[39m,\n\u001b[0;32m   (...)\u001b[0m\n\u001b[1;32m   1469\u001b[0m     stream_cls: \u001b[39mtype\u001b[39m[_AsyncStreamT] \u001b[39m|\u001b[39m \u001b[39mNone\u001b[39;00m \u001b[39m=\u001b[39m \u001b[39mNone\u001b[39;00m,\n\u001b[1;32m   1470\u001b[0m ) \u001b[39m-\u001b[39m\u001b[39m>\u001b[39m ResponseT \u001b[39m|\u001b[39m _AsyncStreamT:\n\u001b[1;32m   1471\u001b[0m     opts \u001b[39m=\u001b[39m FinalRequestOptions\u001b[39m.\u001b[39mconstruct(\n\u001b[1;32m   1472\u001b[0m         method\u001b[39m=\u001b[39m\u001b[39m\"\u001b[39m\u001b[39mpost\u001b[39m\u001b[39m\"\u001b[39m, url\u001b[39m=\u001b[39mpath, json_data\u001b[39m=\u001b[39mbody, files\u001b[39m=\u001b[39m\u001b[39mawait\u001b[39;00m async_to_httpx_files(files), \u001b[39m*\u001b[39m\u001b[39m*\u001b[39moptions\n\u001b[1;32m   1473\u001b[0m     )\n\u001b[0;32m-> 1474\u001b[0m     \u001b[39mreturn\u001b[39;00m \u001b[39mawait\u001b[39;00m \u001b[39mself\u001b[39m\u001b[39m.\u001b[39mrequest(cast_to, opts, stream\u001b[39m=\u001b[39mstream, stream_cls\u001b[39m=\u001b[39mstream_cls)\n",
      "File \u001b[0;32m~/codes-and-scripts/projects/llm_apps/queryverse-env/lib/python3.11/site-packages/openai/_base_client.py:1275\u001b[0m, in \u001b[0;36mAsyncAPIClient.request\u001b[0;34m(self, cast_to, options, stream, stream_cls, remaining_retries)\u001b[0m\n\u001b[1;32m   1266\u001b[0m \u001b[39masync\u001b[39;00m \u001b[39mdef\u001b[39;00m \u001b[39mrequest\u001b[39m(\n\u001b[1;32m   1267\u001b[0m     \u001b[39mself\u001b[39m,\n\u001b[1;32m   1268\u001b[0m     cast_to: Type[ResponseT],\n\u001b[0;32m   (...)\u001b[0m\n\u001b[1;32m   1273\u001b[0m     remaining_retries: Optional[\u001b[39mint\u001b[39m] \u001b[39m=\u001b[39m \u001b[39mNone\u001b[39;00m,\n\u001b[1;32m   1274\u001b[0m ) \u001b[39m-\u001b[39m\u001b[39m>\u001b[39m ResponseT \u001b[39m|\u001b[39m _AsyncStreamT:\n\u001b[0;32m-> 1275\u001b[0m     \u001b[39mreturn\u001b[39;00m \u001b[39mawait\u001b[39;00m \u001b[39mself\u001b[39m\u001b[39m.\u001b[39m_request(\n\u001b[1;32m   1276\u001b[0m         cast_to\u001b[39m=\u001b[39mcast_to,\n\u001b[1;32m   1277\u001b[0m         options\u001b[39m=\u001b[39moptions,\n\u001b[1;32m   1278\u001b[0m         stream\u001b[39m=\u001b[39mstream,\n\u001b[1;32m   1279\u001b[0m         stream_cls\u001b[39m=\u001b[39mstream_cls,\n\u001b[1;32m   1280\u001b[0m         remaining_retries\u001b[39m=\u001b[39mremaining_retries,\n\u001b[1;32m   1281\u001b[0m     )\n",
      "File \u001b[0;32m~/codes-and-scripts/projects/llm_apps/queryverse-env/lib/python3.11/site-packages/openai/_base_client.py:1306\u001b[0m, in \u001b[0;36mAsyncAPIClient._request\u001b[0;34m(self, cast_to, options, stream, stream_cls, remaining_retries)\u001b[0m\n\u001b[1;32m   1304\u001b[0m \u001b[39mexcept\u001b[39;00m httpx\u001b[39m.\u001b[39mHTTPStatusError \u001b[39mas\u001b[39;00m err:  \u001b[39m# thrown on 4xx and 5xx status code\u001b[39;00m\n\u001b[1;32m   1305\u001b[0m     \u001b[39mif\u001b[39;00m retries \u001b[39m>\u001b[39m \u001b[39m0\u001b[39m \u001b[39mand\u001b[39;00m \u001b[39mself\u001b[39m\u001b[39m.\u001b[39m_should_retry(err\u001b[39m.\u001b[39mresponse):\n\u001b[0;32m-> 1306\u001b[0m         \u001b[39mreturn\u001b[39;00m \u001b[39mawait\u001b[39;00m \u001b[39mself\u001b[39m\u001b[39m.\u001b[39m_retry_request(\n\u001b[1;32m   1307\u001b[0m             options,\n\u001b[1;32m   1308\u001b[0m             cast_to,\n\u001b[1;32m   1309\u001b[0m             retries,\n\u001b[1;32m   1310\u001b[0m             err\u001b[39m.\u001b[39mresponse\u001b[39m.\u001b[39mheaders,\n\u001b[1;32m   1311\u001b[0m             stream\u001b[39m=\u001b[39mstream,\n\u001b[1;32m   1312\u001b[0m             stream_cls\u001b[39m=\u001b[39mstream_cls,\n\u001b[1;32m   1313\u001b[0m         )\n\u001b[1;32m   1315\u001b[0m     \u001b[39m# If the response is streamed then we need to explicitly read the response\u001b[39;00m\n\u001b[1;32m   1316\u001b[0m     \u001b[39m# to completion before attempting to access the response text.\u001b[39;00m\n\u001b[1;32m   1317\u001b[0m     \u001b[39mawait\u001b[39;00m err\u001b[39m.\u001b[39mresponse\u001b[39m.\u001b[39maread()\n",
      "File \u001b[0;32m~/codes-and-scripts/projects/llm_apps/queryverse-env/lib/python3.11/site-packages/openai/_base_client.py:1356\u001b[0m, in \u001b[0;36mAsyncAPIClient._retry_request\u001b[0;34m(self, options, cast_to, remaining_retries, response_headers, stream, stream_cls)\u001b[0m\n\u001b[1;32m   1352\u001b[0m log\u001b[39m.\u001b[39minfo(\u001b[39m\"\u001b[39m\u001b[39mRetrying request to \u001b[39m\u001b[39m%s\u001b[39;00m\u001b[39m in \u001b[39m\u001b[39m%f\u001b[39;00m\u001b[39m seconds\u001b[39m\u001b[39m\"\u001b[39m, options\u001b[39m.\u001b[39murl, timeout)\n\u001b[1;32m   1354\u001b[0m \u001b[39mawait\u001b[39;00m anyio\u001b[39m.\u001b[39msleep(timeout)\n\u001b[0;32m-> 1356\u001b[0m \u001b[39mreturn\u001b[39;00m \u001b[39mawait\u001b[39;00m \u001b[39mself\u001b[39m\u001b[39m.\u001b[39m_request(\n\u001b[1;32m   1357\u001b[0m     options\u001b[39m=\u001b[39moptions,\n\u001b[1;32m   1358\u001b[0m     cast_to\u001b[39m=\u001b[39mcast_to,\n\u001b[1;32m   1359\u001b[0m     remaining_retries\u001b[39m=\u001b[39mremaining,\n\u001b[1;32m   1360\u001b[0m     stream\u001b[39m=\u001b[39mstream,\n\u001b[1;32m   1361\u001b[0m     stream_cls\u001b[39m=\u001b[39mstream_cls,\n\u001b[1;32m   1362\u001b[0m )\n",
      "File \u001b[0;32m~/codes-and-scripts/projects/llm_apps/queryverse-env/lib/python3.11/site-packages/openai/_base_client.py:1306\u001b[0m, in \u001b[0;36mAsyncAPIClient._request\u001b[0;34m(self, cast_to, options, stream, stream_cls, remaining_retries)\u001b[0m\n\u001b[1;32m   1304\u001b[0m \u001b[39mexcept\u001b[39;00m httpx\u001b[39m.\u001b[39mHTTPStatusError \u001b[39mas\u001b[39;00m err:  \u001b[39m# thrown on 4xx and 5xx status code\u001b[39;00m\n\u001b[1;32m   1305\u001b[0m     \u001b[39mif\u001b[39;00m retries \u001b[39m>\u001b[39m \u001b[39m0\u001b[39m \u001b[39mand\u001b[39;00m \u001b[39mself\u001b[39m\u001b[39m.\u001b[39m_should_retry(err\u001b[39m.\u001b[39mresponse):\n\u001b[0;32m-> 1306\u001b[0m         \u001b[39mreturn\u001b[39;00m \u001b[39mawait\u001b[39;00m \u001b[39mself\u001b[39m\u001b[39m.\u001b[39m_retry_request(\n\u001b[1;32m   1307\u001b[0m             options,\n\u001b[1;32m   1308\u001b[0m             cast_to,\n\u001b[1;32m   1309\u001b[0m             retries,\n\u001b[1;32m   1310\u001b[0m             err\u001b[39m.\u001b[39mresponse\u001b[39m.\u001b[39mheaders,\n\u001b[1;32m   1311\u001b[0m             stream\u001b[39m=\u001b[39mstream,\n\u001b[1;32m   1312\u001b[0m             stream_cls\u001b[39m=\u001b[39mstream_cls,\n\u001b[1;32m   1313\u001b[0m         )\n\u001b[1;32m   1315\u001b[0m     \u001b[39m# If the response is streamed then we need to explicitly read the response\u001b[39;00m\n\u001b[1;32m   1316\u001b[0m     \u001b[39m# to completion before attempting to access the response text.\u001b[39;00m\n\u001b[1;32m   1317\u001b[0m     \u001b[39mawait\u001b[39;00m err\u001b[39m.\u001b[39mresponse\u001b[39m.\u001b[39maread()\n",
      "File \u001b[0;32m~/codes-and-scripts/projects/llm_apps/queryverse-env/lib/python3.11/site-packages/openai/_base_client.py:1356\u001b[0m, in \u001b[0;36mAsyncAPIClient._retry_request\u001b[0;34m(self, options, cast_to, remaining_retries, response_headers, stream, stream_cls)\u001b[0m\n\u001b[1;32m   1352\u001b[0m log\u001b[39m.\u001b[39minfo(\u001b[39m\"\u001b[39m\u001b[39mRetrying request to \u001b[39m\u001b[39m%s\u001b[39;00m\u001b[39m in \u001b[39m\u001b[39m%f\u001b[39;00m\u001b[39m seconds\u001b[39m\u001b[39m\"\u001b[39m, options\u001b[39m.\u001b[39murl, timeout)\n\u001b[1;32m   1354\u001b[0m \u001b[39mawait\u001b[39;00m anyio\u001b[39m.\u001b[39msleep(timeout)\n\u001b[0;32m-> 1356\u001b[0m \u001b[39mreturn\u001b[39;00m \u001b[39mawait\u001b[39;00m \u001b[39mself\u001b[39m\u001b[39m.\u001b[39m_request(\n\u001b[1;32m   1357\u001b[0m     options\u001b[39m=\u001b[39moptions,\n\u001b[1;32m   1358\u001b[0m     cast_to\u001b[39m=\u001b[39mcast_to,\n\u001b[1;32m   1359\u001b[0m     remaining_retries\u001b[39m=\u001b[39mremaining,\n\u001b[1;32m   1360\u001b[0m     stream\u001b[39m=\u001b[39mstream,\n\u001b[1;32m   1361\u001b[0m     stream_cls\u001b[39m=\u001b[39mstream_cls,\n\u001b[1;32m   1362\u001b[0m )\n",
      "File \u001b[0;32m~/codes-and-scripts/projects/llm_apps/queryverse-env/lib/python3.11/site-packages/openai/_base_client.py:1318\u001b[0m, in \u001b[0;36mAsyncAPIClient._request\u001b[0;34m(self, cast_to, options, stream, stream_cls, remaining_retries)\u001b[0m\n\u001b[1;32m   1315\u001b[0m     \u001b[39m# If the response is streamed then we need to explicitly read the response\u001b[39;00m\n\u001b[1;32m   1316\u001b[0m     \u001b[39m# to completion before attempting to access the response text.\u001b[39;00m\n\u001b[1;32m   1317\u001b[0m     \u001b[39mawait\u001b[39;00m err\u001b[39m.\u001b[39mresponse\u001b[39m.\u001b[39maread()\n\u001b[0;32m-> 1318\u001b[0m     \u001b[39mraise\u001b[39;00m \u001b[39mself\u001b[39m\u001b[39m.\u001b[39m_make_status_error_from_response(err\u001b[39m.\u001b[39mresponse) \u001b[39mfrom\u001b[39;00m \u001b[39mNone\u001b[39;00m\n\u001b[1;32m   1319\u001b[0m \u001b[39mexcept\u001b[39;00m httpx\u001b[39m.\u001b[39mConnectTimeout \u001b[39mas\u001b[39;00m err:\n\u001b[1;32m   1320\u001b[0m     \u001b[39mif\u001b[39;00m retries \u001b[39m>\u001b[39m \u001b[39m0\u001b[39m:\n",
      "\u001b[0;31mRateLimitError\u001b[0m: Error code: 429 - {'error': {'message': 'Rate limit reached for gpt-3.5-turbo in organization org-QUAcH37XklQyEZm0pdV4NCbA on requests per min (RPM): Limit 3, Used 3, Requested 1. Please try again in 20s. Visit https://platform.openai.com/account/rate-limits to learn more. You can increase your rate limit by adding a payment method to your account at https://platform.openai.com/account/billing.', 'type': 'requests', 'param': None, 'code': 'rate_limit_exceeded'}}"
     ]
    }
   ],
   "source": [
    "is_async = True\n",
    "stream = False\n",
    "gpt = OpenAILLM(is_async)\n",
    "print(f\"Is Async = {gpt.is_async}\")\n",
    "response = await gpt.aprompt(messages=messages, temperature=temperature, stream=stream)\n",
    "response"
   ]
  },
  {
   "cell_type": "markdown",
   "metadata": {},
   "source": [
    "# Streaming Sync"
   ]
  },
  {
   "cell_type": "code",
   "execution_count": 13,
   "metadata": {},
   "outputs": [
    {
     "name": "stdout",
     "output_type": "stream",
     "text": [
      "Is Async = False\n"
     ]
    },
    {
     "data": {
      "text/plain": [
       "<openai.Stream at 0x1081089d0>"
      ]
     },
     "execution_count": 13,
     "metadata": {},
     "output_type": "execute_result"
    }
   ],
   "source": [
    "is_async = False\n",
    "stream = True\n",
    "gpt = OpenAILLM(is_async)\n",
    "print(f\"Is Async = {gpt.is_async}\")\n",
    "response = gpt.prompt(messages=messages, temperature=temperature, stream=stream)\n",
    "response"
   ]
  },
  {
   "cell_type": "code",
   "execution_count": 14,
   "metadata": {},
   "outputs": [],
   "source": [
    "all_responses = []\n",
    "for first in response:\n",
    "    all_responses.append(first)\n",
    "    #print(f\"got response data: {first.model_dump_json(indent=2)}\")"
   ]
  },
  {
   "cell_type": "code",
   "execution_count": 21,
   "metadata": {},
   "outputs": [
    {
     "data": {
      "text/plain": [
       "''"
      ]
     },
     "execution_count": 21,
     "metadata": {},
     "output_type": "execute_result"
    }
   ],
   "source": [
    "all_responses[0].choices[0].delta.content"
   ]
  },
  {
   "cell_type": "code",
   "execution_count": null,
   "metadata": {},
   "outputs": [],
   "source": []
  }
 ],
 "metadata": {
  "kernelspec": {
   "display_name": "queryverse-env",
   "language": "python",
   "name": "python3"
  },
  "language_info": {
   "codemirror_mode": {
    "name": "ipython",
    "version": 3
   },
   "file_extension": ".py",
   "mimetype": "text/x-python",
   "name": "python",
   "nbconvert_exporter": "python",
   "pygments_lexer": "ipython3",
   "version": "3.11.3"
  }
 },
 "nbformat": 4,
 "nbformat_minor": 2
}
