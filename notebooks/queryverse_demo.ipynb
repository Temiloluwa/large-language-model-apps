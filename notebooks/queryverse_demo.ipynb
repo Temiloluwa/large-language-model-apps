{
 "cells": [
  {
   "cell_type": "code",
   "execution_count": null,
   "metadata": {},
   "outputs": [],
   "source": [
    "from pprint import pprint\n",
    "from queryverse.llm import OpenAILLM\n",
    "from queryverse.prompter import SystemPrompter, UserPrompter"
   ]
  },
  {
   "cell_type": "markdown",
   "metadata": {},
   "source": [
    "# Prompt"
   ]
  },
  {
   "cell_type": "code",
   "execution_count": null,
   "metadata": {},
   "outputs": [],
   "source": [
    "system_prompt = SystemPrompter(\"\"\"\n",
    "        You are a fluent German speaker that is great at following instructions. \n",
    "    \"\"\")\n",
    "\n",
    "user_prompt = UserPrompter(\"\"\"\n",
    "    Given a German word, supply the following\n",
    "    1. A explanation of the word in english in very simple terms like to a child.\n",
    "    2. Synonyms of the word if the exist\n",
    "\n",
    "    Output Format (comma seperated json format):\n",
    "\n",
    "        explanation: <Simple explanation like to a child>\n",
    "        synonyms: <comman seperated synoyms>\n",
    "\n",
    "    German Word: {word}\n",
    "\"\"\")"
   ]
  },
  {
   "cell_type": "code",
   "execution_count": null,
   "metadata": {},
   "outputs": [],
   "source": [
    "german_word = \"Hilfreich\"\n",
    "temperature = 0.5\n",
    "\n",
    "messages = [\n",
    "    system_prompt(),\n",
    "    user_prompt(word=german_word)\n",
    "]\n",
    "\n",
    "pprint(messages)"
   ]
  },
  {
   "cell_type": "markdown",
   "metadata": {},
   "source": [
    "## Non Streaming Sync"
   ]
  },
  {
   "cell_type": "code",
   "execution_count": null,
   "metadata": {},
   "outputs": [],
   "source": [
    "is_async = False\n",
    "stream = False\n",
    "gpt = OpenAILLM(is_async)\n",
    "print(f\"Is Async = {gpt.is_async}\")\n",
    "response = gpt.prompt(messages=messages, temperature=temperature, stream=stream)\n",
    "pprint(response)"
   ]
  },
  {
   "cell_type": "markdown",
   "metadata": {},
   "source": [
    "## Non Streaming Async"
   ]
  },
  {
   "cell_type": "code",
   "execution_count": null,
   "metadata": {},
   "outputs": [],
   "source": [
    "is_async = True\n",
    "stream = False\n",
    "gpt = OpenAILLM(is_async)\n",
    "print(f\"Is Async = {gpt.is_async}\")\n",
    "response = await gpt.aprompt(messages=messages, temperature=temperature, stream=stream)\n",
    "pprint(response)"
   ]
  },
  {
   "cell_type": "markdown",
   "metadata": {},
   "source": [
    "## Streaming Sync"
   ]
  },
  {
   "cell_type": "code",
   "execution_count": null,
   "metadata": {},
   "outputs": [],
   "source": [
    "is_async = False\n",
    "stream = True\n",
    "gpt = OpenAILLM(is_async)\n",
    "print(f\"Is Async = {gpt.is_async}\")\n",
    "response = gpt.prompt(messages=messages, temperature=temperature, stream=stream)\n",
    "for val in response:\n",
    "    print(val)"
   ]
  },
  {
   "cell_type": "markdown",
   "metadata": {},
   "source": [
    "## Streaming Async"
   ]
  },
  {
   "cell_type": "code",
   "execution_count": null,
   "metadata": {},
   "outputs": [],
   "source": [
    "is_async = True\n",
    "stream = True\n",
    "gpt = OpenAILLM(is_async)\n",
    "print(f\"Is Async = {gpt.is_async}\")\n",
    "response = await gpt.aprompt(messages=messages, temperature=temperature, stream=stream)\n",
    "async for val in response:\n",
    "   print(val)"
   ]
  },
  {
   "cell_type": "markdown",
   "metadata": {},
   "source": [
    "# Todo\n",
    "\n",
    "1. Count Token\n",
    "2. Create ConversationAgent Class\n",
    "3. Search for a way to summarize conversation history"
   ]
  }
 ],
 "metadata": {
  "kernelspec": {
   "display_name": "queryverse-env",
   "language": "python",
   "name": "python3"
  },
  "language_info": {
   "codemirror_mode": {
    "name": "ipython",
    "version": 3
   },
   "file_extension": ".py",
   "mimetype": "text/x-python",
   "name": "python",
   "nbconvert_exporter": "python",
   "pygments_lexer": "ipython3",
   "version": "3.11.3"
  }
 },
 "nbformat": 4,
 "nbformat_minor": 2
}
