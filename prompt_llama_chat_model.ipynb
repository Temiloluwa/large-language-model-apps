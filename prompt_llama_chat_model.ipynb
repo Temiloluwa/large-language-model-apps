{
 "cells": [
  {
   "cell_type": "code",
   "execution_count": 1,
   "metadata": {},
   "outputs": [],
   "source": [
    "from llms import LLamaChatModel"
   ]
  },
  {
   "cell_type": "markdown",
   "metadata": {},
   "source": [
    "# Initialize Model\n",
    "\n",
    "`credentials_profile` is your aws profile you obtain by running `aws configure` in your command line. The default profile name is called `default`. <br>\n",
    "\n",
    "To specify a profile name, run: `aws configure --profile <your-profile name>` in the command line."
   ]
  },
  {
   "cell_type": "code",
   "execution_count": 2,
   "metadata": {},
   "outputs": [],
   "source": [
    "chat_llm = LLamaChatModel(\n",
    "            endpoint_name = \"jumpstart-dft-chat-meta-textgeneration-llama-2-7b-f\", # name of Sagemake endpoint\n",
    "            credentials_profile = \"temmie\", # your aws profile name. I\n",
    "            max_new_tokens= 128,\n",
    "            temperature= 0.2)"
   ]
  },
  {
   "cell_type": "markdown",
   "metadata": {},
   "source": [
    "# Prompt the Model  "
   ]
  },
  {
   "cell_type": "code",
   "execution_count": 3,
   "metadata": {},
   "outputs": [
    {
     "name": "stdout",
     "output_type": "stream",
     "text": [
      " Of course! Here's a quick one for you:\n",
      "\n",
      "Why don't scientists trust atoms?\n",
      "Because they make up everything!\n",
      "\n",
      "I hope that brought a smile to your face! Do you want to hear another one?\n",
      "========================\n",
      " Of course! Here is a short and sweet poem for you:\n",
      "\n",
      "A gentle breeze upon my face,\n",
      "A soft and gentle touch,\n",
      "A soothing melody in this place,\n",
      "A peaceful feeling, such.\n",
      "\n",
      "The world outside may seem to race,\n",
      "But here, I find my peaceful space,\n",
      "A place where I can rest and embrace,\n",
      "The calmness that my soul does seek.\n",
      "\n",
      "I hope you find solace in this poem, my friend. Is there anything else I can assist you with?\n",
      "========================\n"
     ]
    }
   ],
   "source": [
    "input_prompts = [\"Tell me a joke\", \"Tell me a poem\"]\n",
    "generations = chat_llm.generate(input_prompts)\n",
    "generations = list(generations)\n",
    "for i in range(len(input_prompts)):\n",
    "    print(generations[0][1][i][0].text)\n",
    "    print(\"========================\")"
   ]
  },
  {
   "cell_type": "markdown",
   "metadata": {},
   "source": [
    "# Run a Chain"
   ]
  },
  {
   "cell_type": "code",
   "execution_count": 4,
   "metadata": {},
   "outputs": [
    {
     "name": "stdout",
     "output_type": "stream",
     "text": [
      " Sure, here's a simple joke about rats in German:\n",
      "\n",
      "Was sagt ein Rat zu dem anderen Rat?\n",
      "\n",
      "Rat sagt: \"Sie sind ein verdammter Rat!\"\n",
      "\n",
      "Translation: \"What does one rat say to the other rat? Rat says: 'You are a damned rat!'\"\n",
      "\n",
      "I hope you find this joke amusing! Let me know if you have any other questions or if you'd like me to translate something else for you.\n"
     ]
    }
   ],
   "source": [
    "from langchain.prompts.chat import (\n",
    "    ChatPromptTemplate,\n",
    "    SystemMessagePromptTemplate,\n",
    "    HumanMessagePromptTemplate,\n",
    ")\n",
    "from langchain.chains import LLMChain\n",
    "\n",
    "# system template\n",
    "sys_template = \"You are a helpful assistant that translates {input_lang} text to {output_lang}\"\n",
    "system_message_prompt = SystemMessagePromptTemplate.from_template(sys_template)\n",
    "\n",
    "# human message\n",
    "human_template = \"{text}\"\n",
    "human_message_prompt = HumanMessagePromptTemplate.from_template(human_template)\n",
    "\n",
    "# chat prompt\n",
    "chat_prompt = ChatPromptTemplate.from_messages([system_message_prompt, human_message_prompt])\n",
    "\n",
    "chain = LLMChain(llm=chat_llm, prompt=chat_prompt)\n",
    "\n",
    "response = chain.run(input_lang=\"English\", output_lang=\"German\", text=\"Tell me a joke about rats\")\n",
    "print(response)"
   ]
  },
  {
   "cell_type": "code",
   "execution_count": null,
   "metadata": {},
   "outputs": [],
   "source": []
  }
 ],
 "metadata": {
  "kernelspec": {
   "display_name": "llm-apps-env",
   "language": "python",
   "name": "python3"
  },
  "language_info": {
   "codemirror_mode": {
    "name": "ipython",
    "version": 3
   },
   "file_extension": ".py",
   "mimetype": "text/x-python",
   "name": "python",
   "nbconvert_exporter": "python",
   "pygments_lexer": "ipython3",
   "version": "3.11.3"
  },
  "orig_nbformat": 4
 },
 "nbformat": 4,
 "nbformat_minor": 2
}
