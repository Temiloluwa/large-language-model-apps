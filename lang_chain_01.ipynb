{
 "cells": [
  {
   "cell_type": "code",
   "execution_count": 12,
   "metadata": {},
   "outputs": [],
   "source": [
    "import os\n",
    "from dotenv import load_dotenv\n",
    "from langchain.llms import OpenAI\n",
    "\n",
    "load_dotenv()\n",
    "api_key = os.environ.get('OPENAI_API_KEY')\n",
    "serpapi_key = os.environ.get('SERPAPI_API_KEY')\n"
   ]
  },
  {
   "cell_type": "code",
   "execution_count": 3,
   "metadata": {},
   "outputs": [
    {
     "name": "stdout",
     "output_type": "stream",
     "text": [
      "\n",
      "\n",
      "Colorful Comfort Socks.\n"
     ]
    }
   ],
   "source": [
    "def simple_prompt(temperature: float):\n",
    "    llm = OpenAI(openai_api_key=api_key, \n",
    "                 temperature=temperature)\n",
    "    text = \"What would be a good company name for a company that makes colorful socks?\"\n",
    "    print(llm(text))\n",
    "\n",
    "simple_prompt(0.9)"
   ]
  },
  {
   "attachments": {},
   "cell_type": "markdown",
   "metadata": {},
   "source": [
    "## Prompt Templates"
   ]
  },
  {
   "cell_type": "code",
   "execution_count": 8,
   "metadata": {},
   "outputs": [
    {
     "name": "stdout",
     "output_type": "stream",
     "text": [
      "prompt is:  What is a good name for a company that makes AI consultancy?\n",
      "output is:  \n",
      "\n",
      "AI Advisors Inc.\n"
     ]
    }
   ],
   "source": [
    "from langchain.prompts import PromptTemplate\n",
    "from langchain.chains import LLMChain\n",
    "\n",
    "def simple_prompt_template(\n",
    "        product:str,\n",
    "        temperature: float):\n",
    "    llm = OpenAI(openai_api_key=api_key, \n",
    "                 temperature=temperature)\n",
    "    prompt = PromptTemplate(\n",
    "            input_variables=[\"product\"],\n",
    "            template=\"What is a good name for a company that makes {product}?\",)\n",
    "    print(f\"prompt is:  {prompt.format(product=product)}\")\n",
    "    chain = LLMChain(llm=llm, prompt=prompt)\n",
    "    return chain.run(product)\n",
    "\n",
    "\n",
    "output = simple_prompt_template(\"AI consultancy\", 0.2)\n",
    "print(\"output is: \", output)"
   ]
  },
  {
   "attachments": {},
   "cell_type": "markdown",
   "metadata": {},
   "source": [
    "## Agents"
   ]
  },
  {
   "cell_type": "code",
   "execution_count": 15,
   "metadata": {},
   "outputs": [
    {
     "name": "stdout",
     "output_type": "stream",
     "text": [
      "\n",
      "\n",
      "\u001b[1m> Entering new AgentExecutor chain...\u001b[0m\n",
      "\u001b[32;1m\u001b[1;3m I need to find the temperature from yesterday and then do a calculation with it.\n",
      "Action: Search\n",
      "Action Input: \"High temperature Munich yesterday Centigrade\"\u001b[0m\n",
      "Observation: \u001b[36;1m\u001b[1;3mMunich Temperature Yesterday. Maximum temperature yesterday: 75 °F (at 2:50 pm) Minimum temperature yesterday: 46 °F (at 5:50 am) Average temperature ...\u001b[0m\n",
      "Thought:\u001b[32;1m\u001b[1;3m I need to convert the temperature from Fahrenheit to Centigrade.\n",
      "Action: Calculator\n",
      "Action Input: 75 Fahrenheit to Centigrade\u001b[0m\n",
      "Observation: \u001b[33;1m\u001b[1;3mAnswer: 23.88888888888889\u001b[0m\n",
      "Thought:\u001b[32;1m\u001b[1;3m I now know the temperature in Centigrade and can calculate the power.\n",
      "Action: Calculator\n",
      "Action Input: 23.88888888888889^2\u001b[0m\n",
      "Observation: \u001b[33;1m\u001b[1;3mAnswer: 570.679012345679\u001b[0m\n",
      "Thought:\u001b[32;1m\u001b[1;3m I now know the final answer.\n",
      "Final Answer: The high temperature in Munich yesterday in Centigrade was 23.88888888888889 and that number raised to the 2 power is 570.679012345679.\u001b[0m\n",
      "\n",
      "\u001b[1m> Finished chain.\u001b[0m\n"
     ]
    }
   ],
   "source": [
    "from langchain.agents import load_tools\n",
    "from langchain.agents import initialize_agent\n",
    "from langchain.agents import AgentType\n",
    "from langchain.llms import OpenAI\n",
    "\n",
    "\n",
    "def search_agent(temperature: float, run_agent: bool=False):\n",
    "    llm = OpenAI(temperature=temperature)\n",
    "    tools = load_tools([\"serpapi\", \"llm-math\"], llm=llm)\n",
    "    agent = initialize_agent(tools, llm, agent=AgentType.ZERO_SHOT_REACT_DESCRIPTION, verbose=True)\n",
    "    if run_agent:\n",
    "        agent.run(\"What was the high temperature in Munich yesterday in Centigrade? What is that number raised to the 2 power?\")\n",
    "\n",
    "search_agent(0.7)"
   ]
  },
  {
   "attachments": {},
   "cell_type": "markdown",
   "metadata": {},
   "source": [
    "## Memory"
   ]
  },
  {
   "cell_type": "code",
   "execution_count": 19,
   "metadata": {},
   "outputs": [
    {
     "name": "stdout",
     "output_type": "stream",
     "text": [
      "\n",
      "\n",
      "\u001b[1m> Entering new ConversationChain chain...\u001b[0m\n",
      "Prompt after formatting:\n",
      "\u001b[32;1m\u001b[1;3mThe following is a friendly conversation between a human and an AI. The AI is talkative and provides lots of specific details from its context. If the AI does not know the answer to a question, it truthfully says it does not know.\n",
      "\n",
      "Current conversation:\n",
      "\n",
      "Human: What would you like to eat\n",
      "AI:\u001b[0m\n",
      "\n",
      "\u001b[1m> Finished chain.\u001b[0m\n",
      " I don't eat, but I can recommend some restaurants in your area. What type of food do you like?\n"
     ]
    }
   ],
   "source": [
    "from langchain import OpenAI, ConversationChain\n",
    "\n",
    "def conversation_bot(temperature: float,\n",
    "                    input: str,\n",
    "                    conv_bot: ConversationChain=None):\n",
    "    llm = OpenAI(temperature=temperature)\n",
    "    conversation = ConversationChain(llm=llm, verbose=True)\n",
    "    if conv_bot is None:\n",
    "        output = conversation.predict(input=input)\n",
    "    else:\n",
    "        output = conv_bot.predict(input=input)\n",
    "    print(output)\n",
    "    return conversation\n",
    "\n",
    "\n",
    "conv_bot = conversation_bot(0.6, input())"
   ]
  },
  {
   "cell_type": "code",
   "execution_count": 22,
   "metadata": {},
   "outputs": [
    {
     "name": "stdout",
     "output_type": "stream",
     "text": [
      "\n",
      "\n",
      "\u001b[1m> Entering new ConversationChain chain...\u001b[0m\n",
      "Prompt after formatting:\n",
      "\u001b[32;1m\u001b[1;3mThe following is a friendly conversation between a human and an AI. The AI is talkative and provides lots of specific details from its context. If the AI does not know the answer to a question, it truthfully says it does not know.\n",
      "\n",
      "Current conversation:\n",
      "\n",
      "Human: Why are you not familiar with it , i thought you were an information provider\n",
      "AI:\u001b[0m\n",
      "\n",
      "\u001b[1m> Finished chain.\u001b[0m\n",
      " I am an information provider, but I'm not omniscient. I'm limited to the data and information that I have access to. I'm sorry I'm not familiar with it.\n"
     ]
    }
   ],
   "source": [
    "conv_bot = conversation_bot(0.6, input(), conv_bot)"
   ]
  },
  {
   "attachments": {},
   "cell_type": "markdown",
   "metadata": {},
   "source": [
    "## Chat Models"
   ]
  },
  {
   "cell_type": "code",
   "execution_count": 24,
   "metadata": {},
   "outputs": [
    {
     "name": "stdout",
     "output_type": "stream",
     "text": [
      "content=\"J'adore la programmation.\" additional_kwargs={} example=False\n"
     ]
    }
   ],
   "source": [
    "from typing import Union, List\n",
    "from langchain.chat_models import ChatOpenAI\n",
    "from langchain.schema import (\n",
    "    AIMessage,\n",
    "    HumanMessage,\n",
    "    SystemMessage\n",
    ")\n",
    "\n",
    "def chat_bot(temperature: float, \n",
    "             input:list, batch:bool=False):\n",
    "    chat = ChatOpenAI(temperature=temperature)\n",
    "    if not batch:\n",
    "        output = chat(input)\n",
    "    else:\n",
    "        output = chat.generate(input)\n",
    "    print(output)\n",
    "\n",
    "\n",
    "chat_bot(0.75, [HumanMessage(content=\"Translate this sentence from English to French. I love programming.\")])"
   ]
  },
  {
   "cell_type": "code",
   "execution_count": 25,
   "metadata": {},
   "outputs": [
    {
     "name": "stdout",
     "output_type": "stream",
     "text": [
      "content=\"J'aime programmer.\" additional_kwargs={} example=False\n"
     ]
    }
   ],
   "source": [
    "chat_bot(0.75, [\n",
    "    SystemMessage(content=\"You are a helpful assistant that translates English to French.\"),\n",
    "    HumanMessage(content=\"I love programming.\")\n",
    "])"
   ]
  },
  {
   "cell_type": "code",
   "execution_count": null,
   "metadata": {},
   "outputs": [],
   "source": []
  }
 ],
 "metadata": {
  "kernelspec": {
   "display_name": "llm",
   "language": "python",
   "name": "python3"
  },
  "language_info": {
   "codemirror_mode": {
    "name": "ipython",
    "version": 3
   },
   "file_extension": ".py",
   "mimetype": "text/x-python",
   "name": "python",
   "nbconvert_exporter": "python",
   "pygments_lexer": "ipython3",
   "version": "3.11.4"
  },
  "orig_nbformat": 4
 },
 "nbformat": 4,
 "nbformat_minor": 2
}
